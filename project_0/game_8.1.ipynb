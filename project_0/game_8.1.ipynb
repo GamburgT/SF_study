{
 "cells": [
  {
   "cell_type": "code",
   "execution_count": 9,
   "metadata": {},
   "outputs": [
    {
     "name": "stdout",
     "output_type": "stream",
     "text": [
      "Количество попыток: (7, 1)\n"
     ]
    }
   ],
   "source": [
    "import numpy as np\n",
    "\n",
    "def random_predict(number:int=1) -> int:\n",
    "    \"\"\"Рандомно угадываем число\n",
    "\n",
    "    Args:\n",
    "        number (int, optional): Загаданное число. Defaults to 1.\n",
    "\n",
    "    Returns:\n",
    "        int: Число попыток\n",
    "    \"\"\"\n",
    "\n",
    "    count = 0\n",
    "\n",
    "    while True:\n",
    "        count += 1\n",
    "        predict_number = 50 #берем серединное значение, как отправную точку\n",
    "        count += 1 \n",
    "        if number > predict_number:\n",
    "            while number > predict_number: #пока загаданное число больше, увеличиваем еще на половину\n",
    "                predict_number += 12\n",
    "                count += 1\n",
    "            while number!=predict_number: #перебираем по одному\n",
    "                predict_number-=1\n",
    "                count += 1\n",
    "            if number == predict_number:       \n",
    "                break # выход из цикла, если угадали                               \n",
    "        elif number < predict_number:\n",
    "            while number < predict_number: #если загаданное число меньше,уменьшаем в два раза\n",
    "                predict_number//=2\n",
    "                count += 1\n",
    "            while number!=predict_number:\n",
    "                predict_number+=1\n",
    "                count += 1    \n",
    "            if number == predict_number:       \n",
    "                break # выход из цикла, если угадали          \n",
    "        elif number == predict_number:       \n",
    "            break # выход из цикла, если угадали\n",
    "    return(count)\n",
    "    \n",
    "\n",
    "print(f'Количество попыток: {random_predict()}')\n"
   ]
  },
  {
   "cell_type": "code",
   "execution_count": null,
   "metadata": {},
   "outputs": [],
   "source": []
  },
  {
   "cell_type": "code",
   "execution_count": null,
   "metadata": {},
   "outputs": [],
   "source": []
  }
 ],
 "metadata": {
  "kernelspec": {
   "display_name": "Python 3",
   "language": "python",
   "name": "python3"
  },
  "language_info": {
   "codemirror_mode": {
    "name": "ipython",
    "version": 3
   },
   "file_extension": ".py",
   "mimetype": "text/x-python",
   "name": "python",
   "nbconvert_exporter": "python",
   "pygments_lexer": "ipython3",
   "version": "3.10.11"
  },
  "orig_nbformat": 4
 },
 "nbformat": 4,
 "nbformat_minor": 2
}
